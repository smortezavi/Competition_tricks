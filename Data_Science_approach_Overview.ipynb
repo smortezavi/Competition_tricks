{
 "cells": [
  {
   "cell_type": "markdown",
   "metadata": {},
   "source": [
    "## Real World ML Pipeline"
   ]
  },
  {
   "cell_type": "markdown",
   "metadata": {},
   "source": [
    "**Consider the problem of building an anti-spam system**\n",
    "\n",
    "1. Understand the business.\n",
    "    What do you want to do?\n",
    "    For what?\n",
    "    How can it help your users?\n",
    "\n",
    "2. Formalize the task\n",
    "    What is the definition of Spam and non-spam\n",
    "    What is exactly to be predicted\n",
    "\n",
    "3. Collect Data\n",
    "    What data can we use?\n",
    "    How to mine examples of spam and non-spam?\n",
    "\n",
    "4. Clean data and preprocess\n",
    "    \n",
    "5. Building models\n",
    "    Which class of model is appropriate for this task?\n",
    "    How to measure performance?\n",
    "    How to select the best model?\n",
    "\n",
    "6. Evaluate models\n",
    "    Does the model actually block spam?\n",
    "    How often does it block non-spam emails?\n",
    "\n",
    "7. deploy model\n",
    "\n",
    "8. Monitor mode performance\n",
    "\n",
    "9. Retrain model on new data\n",
    "\n",
    "10. \n",
    "    "
   ]
  }
 ],
 "metadata": {
  "kernelspec": {
   "display_name": "Python 3",
   "language": "python",
   "name": "python3"
  },
  "language_info": {
   "codemirror_mode": {
    "name": "ipython",
    "version": 3
   },
   "file_extension": ".py",
   "mimetype": "text/x-python",
   "name": "python",
   "nbconvert_exporter": "python",
   "pygments_lexer": "ipython3",
   "version": "3.6.2"
  }
 },
 "nbformat": 4,
 "nbformat_minor": 2
}
